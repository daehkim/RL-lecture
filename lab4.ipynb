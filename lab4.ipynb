{
  "nbformat": 4,
  "nbformat_minor": 0,
  "metadata": {
    "colab": {
      "name": "lab4.ipynb",
      "provenance": [],
      "collapsed_sections": [],
      "authorship_tag": "ABX9TyPYgtFSQCDHRQHg2SlqAQft",
      "include_colab_link": true
    },
    "kernelspec": {
      "name": "python3",
      "display_name": "Python 3"
    }
  },
  "cells": [
    {
      "cell_type": "markdown",
      "metadata": {
        "id": "view-in-github",
        "colab_type": "text"
      },
      "source": [
        "<a href=\"https://colab.research.google.com/github/daehkim/RL-lecture/blob/master/lab4.ipynb\" target=\"_parent\"><img src=\"https://colab.research.google.com/assets/colab-badge.svg\" alt=\"Open In Colab\"/></a>"
      ]
    },
    {
      "cell_type": "code",
      "metadata": {
        "id": "aG5yK824fDBV",
        "colab_type": "code",
        "colab": {}
      },
      "source": [
        "import gym\n",
        "import numpy as np\n",
        "import matplotlib.pyplot as plt\n",
        "from gym.envs.registration import register"
      ],
      "execution_count": 0,
      "outputs": []
    },
    {
      "cell_type": "code",
      "metadata": {
        "id": "CjSGTXXgiJ4C",
        "colab_type": "code",
        "colab": {}
      },
      "source": [
        "register(\n",
        "    id = 'FrozenLake-v3',\n",
        "    entry_point = 'gym.envs.toy_text:FrozenLakeEnv',\n",
        "    kwargs = {'map_name': '4x4',\n",
        "              'is_slippery': False}\n",
        ")"
      ],
      "execution_count": 0,
      "outputs": []
    },
    {
      "cell_type": "code",
      "metadata": {
        "id": "WzB-0KA_iVkO",
        "colab_type": "code",
        "colab": {}
      },
      "source": [
        "env = gym.make('FrozenLake-v3')"
      ],
      "execution_count": 0,
      "outputs": []
    },
    {
      "cell_type": "code",
      "metadata": {
        "id": "JoZRMRefiXmO",
        "colab_type": "code",
        "colab": {}
      },
      "source": [
        "# Initialize table with all zeros\n",
        "Q = np.zeros([env.observation_space.n, env.action_space.n])\n",
        "# Discount factor\n",
        "dis = .99\n",
        "num_episodes = 2000\n",
        "\n",
        "# Create list to contain total rewards and steps per episode\n",
        "rList = []"
      ],
      "execution_count": 0,
      "outputs": []
    },
    {
      "cell_type": "code",
      "metadata": {
        "id": "bzjIIg-ClYtS",
        "colab_type": "code",
        "colab": {}
      },
      "source": [
        "for i in range(num_episodes):\n",
        "  # Reset environment and get first new observation\n",
        "  state = env.reset()\n",
        "  rAll = 0\n",
        "  done = False\n",
        "  \n",
        "  # The Q-Table learning algorithm\n",
        "  while not done:\n",
        "    # Choose an action by greedily (with noise) picking from Q table\n",
        "    action = np.argmax(Q[state, :] + np.random.randn(1, env.action_space.n) / (i+1))\n",
        "\n",
        "    # Get new state and reward from environment\n",
        "    new_state, reward, done, _ = env.step(action)\n",
        "\n",
        "    # Update Q-Table with new knowledge using decay rate\n",
        "    Q[state,action] = reward + dis * np.max(Q[new_state, :])\n",
        "\n",
        "    rAll += reward\n",
        "    state = new_state\n",
        "\n",
        "  rList.append(rAll)"
      ],
      "execution_count": 0,
      "outputs": []
    },
    {
      "cell_type": "code",
      "metadata": {
        "id": "Th30B7SfmZOj",
        "colab_type": "code",
        "colab": {
          "base_uri": "https://localhost:8080/",
          "height": 571
        },
        "outputId": "b393aefd-7f3e-4554-b1a8-5ab69d7f64fd"
      },
      "source": [
        "print(\"Success rate: \" + str(sum(rList)/num_episodes))\n",
        "print(\"Final Q-Table Values\")\n",
        "print(Q)\n",
        "plt.bar(range(len(rList)), rList, color=\"blue\")\n",
        "plt.show()"
      ],
      "execution_count": 6,
      "outputs": [
        {
          "output_type": "stream",
          "text": [
            "Success rate: 0.956\n",
            "Final Q-Table Values\n",
            "[[0.         0.         0.95099005 0.        ]\n",
            " [0.         0.         0.96059601 0.        ]\n",
            " [0.         0.970299   0.         0.        ]\n",
            " [0.         0.         0.         0.        ]\n",
            " [0.         0.         0.         0.        ]\n",
            " [0.         0.         0.         0.        ]\n",
            " [0.         0.9801     0.         0.        ]\n",
            " [0.         0.         0.         0.        ]\n",
            " [0.         0.         0.970299   0.        ]\n",
            " [0.         0.         0.9801     0.        ]\n",
            " [0.         0.99       0.         0.        ]\n",
            " [0.         0.         0.         0.        ]\n",
            " [0.         0.         0.         0.        ]\n",
            " [0.         0.         0.         0.        ]\n",
            " [0.         0.         1.         0.        ]\n",
            " [0.         0.         0.         0.        ]]\n"
          ],
          "name": "stdout"
        },
        {
          "output_type": "display_data",
          "data": {
            "image/png": "[encoded data removed]",
            "text/plain": [
              "<Figure size 432x288 with 1 Axes>"
            ]
          },
          "metadata": {
            "tags": []
          }
        }
      ]
    },
    {
      "cell_type": "code",
      "metadata": {
        "id": "Y2khm8gmmikQ",
        "colab_type": "code",
        "colab": {}
      },
      "source": [
        ""
      ],
      "execution_count": 0,
      "outputs": []
    }
  ]
}