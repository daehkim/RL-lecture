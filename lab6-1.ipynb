{
  "nbformat": 4,
  "nbformat_minor": 0,
  "metadata": {
    "colab": {
      "name": "lab6.ipynb",
      "provenance": [],
      "authorship_tag": "ABX9TyNpqkqPyPujVtCk100GPGsK",
      "include_colab_link": true
    },
    "kernelspec": {
      "name": "python3",
      "display_name": "Python 3"
    }
  },
  "cells": [
    {
      "cell_type": "markdown",
      "metadata": {
        "id": "view-in-github",
        "colab_type": "text"
      },
      "source": [
        "<a href=\"https://colab.research.google.com/github/daehkim/RL-lecture/blob/master/lab6-1.ipynb\" target=\"_parent\"><img src=\"https://colab.research.google.com/assets/colab-badge.svg\" alt=\"Open In Colab\"/></a>"
      ]
    },
    {
      "cell_type": "code",
      "metadata": {
        "id": "RhumAqcySJJq",
        "colab_type": "code",
        "colab": {}
      },
      "source": [
        "import gym\n",
        "import numpy as np\n",
        "import tensorflow as tf\n",
        "import matplotlib.pyplot as plt"
      ],
      "execution_count": 0,
      "outputs": []
    },
    {
      "cell_type": "markdown",
      "metadata": {
        "id": "HwaKGPL1xD3j",
        "colab_type": "text"
      },
      "source": [
        "**Code: Network and setup**"
      ]
    },
    {
      "cell_type": "code",
      "metadata": {
        "id": "xu8phI6qwtfx",
        "colab_type": "code",
        "colab": {}
      },
      "source": [
        "def one_hot(x):\n",
        "  return np.identity(16)[x:x+1]"
      ],
      "execution_count": 0,
      "outputs": []
    },
    {
      "cell_type": "code",
      "metadata": {
        "id": "sJpb5CTNjMLO",
        "colab_type": "code",
        "colab": {}
      },
      "source": [
        "env = gym.make('FrozenLake-v0')"
      ],
      "execution_count": 0,
      "outputs": []
    },
    {
      "cell_type": "code",
      "metadata": {
        "id": "sMa9xVLvkLE_",
        "colab_type": "code",
        "colab": {}
      },
      "source": [
        "# Input and output size based on the Env\n",
        "input_size = env.observation_space.n # Number of states, it is 16 for Frozenlake\n",
        "output_size = env.action_space.n # Number of action, it is 4 for FrozenLake\n",
        "learning_rate = 0.1"
      ],
      "execution_count": 0,
      "outputs": []
    },
    {
      "cell_type": "code",
      "metadata": {
        "id": "Jk71bU3JkZm_",
        "colab_type": "code",
        "colab": {}
      },
      "source": [
        "# These lines establish the feed-forward part of the network used to choose actions\n",
        "X = tf.placeholder(shape=[1, input_size], dtype=tf.float32) # state input / placeholder는 밖에서 값을 주는 듯.\n",
        "W = tf.Variable(tf.random_uniform([input_size, output_size], 0, 0.01)) # weight 16x4 / Variable has a state\n",
        "\n",
        "Qpred = tf.matmul(X, W) # Out Q prediction\n",
        "Y = tf.placeholder(shape=[1, output_size], dtype=tf.float32) # Ylabel"
      ],
      "execution_count": 0,
      "outputs": []
    },
    {
      "cell_type": "code",
      "metadata": {
        "id": "75_fVGwWvcpn",
        "colab_type": "code",
        "colab": {}
      },
      "source": [
        "loss = tf.reduce_sum(tf.square(Y - Qpred))\n",
        "train = tf.train.GradientDescentOptimizer(learning_rate=learning_rate).minimize(loss)\n",
        "\n",
        "# Set Q-learning related parameters\n",
        "dis = .99\n",
        "num_episodes = 2000\n",
        "\n",
        "# Create lists to contain total rewards and steps per episode\n",
        "rList = []"
      ],
      "execution_count": 0,
      "outputs": []
    },
    {
      "cell_type": "markdown",
      "metadata": {
        "id": "qzniFmoWxAgV",
        "colab_type": "text"
      },
      "source": [
        "**Code: Training**"
      ]
    },
    {
      "cell_type": "code",
      "metadata": {
        "id": "9G_WMr_xwnKE",
        "colab_type": "code",
        "colab": {}
      },
      "source": [
        "init = tf.global_variables_initializer()\n",
        "\n",
        "with tf.Session() as sess:\n",
        "  sess.run(init)\n",
        "  for i in range(num_episodes):\n",
        "    # Reset environment and get first new observation\n",
        "    s = env.reset()\n",
        "    e = 1. / ((i / 50) + 10) # Noise starting from 0.1 ~ 0\n",
        "    rAll = 0\n",
        "    done = False\n",
        "    local_losee = []\n",
        "\n",
        "    # The Q-Network training\n",
        "    while not done:\n",
        "      # Choose an action by greedily (with e chance of random action) from the Q-network\n",
        "      Qs = sess.run(Qpred,feed_dict={X: one_hot(s)})\n",
        "      if np.random.rand(1) < e:\n",
        "        a = env.action_space.sample() # Randomly choose the action\n",
        "      else:\n",
        "        a = np.argmax(Qs)\n",
        "\n",
        "      # Get new state and reward from environment\n",
        "      s1, reward, done, _ = env.step(a)\n",
        "      if done:\n",
        "        # Update Q, and no Qs+1, since it's a terminal state\n",
        "        Qs[0, a] = reward\n",
        "      else:\n",
        "        # Obtain the Q_s1 values by feeding the new state through our network\n",
        "        Qs1 = sess.run(Qpred, feed_dict={X: one_hot(s1)})\n",
        "        # Update Q\n",
        "        Qs[0, a] = reward + dis * np.max(Qs1)\n",
        "\n",
        "      # Train our network using target (Y) and predicted Q (Qpred) values\n",
        "      sess.run(train, feed_dict = {X: one_hot(s), Y: Qs})\n",
        "\n",
        "      rAll += reward\n",
        "      s = s1\n",
        "    rList.append(rAll)"
      ],
      "execution_count": 0,
      "outputs": []
    },
    {
      "cell_type": "code",
      "metadata": {
        "id": "HMu68iViytJJ",
        "colab_type": "code",
        "colab": {
          "base_uri": "https://localhost:8080/",
          "height": 282
        },
        "outputId": "6a2bb0af-3b79-432a-9bdf-fc0337ebe49b"
      },
      "source": [
        "print(\"Percent of successful episodes: \" + str(sum(rList)/num_episodes))\n",
        "plt.bar(range(len(rList)), rList, color=\"blue\")\n",
        "plt.show()"
      ],
      "execution_count": 13,
      "outputs": [
        {
          "output_type": "stream",
          "text": [
            "Percent of successful episodes: 0.281\n"
          ],
          "name": "stdout"
        },
        {
          "output_type": "display_data",
          "data": {
            "image/png": "[encoded data removed]",
            "text/plain": [
              "<Figure size 432x288 with 1 Axes>"
            ]
          },
          "metadata": {
            "tags": []
          }
        }
      ]
    },
    {
      "cell_type": "code",
      "metadata": {
        "id": "9y_Z-aQWzbKT",
        "colab_type": "code",
        "colab": {}
      },
      "source": [
        " "
      ],
      "execution_count": 0,
      "outputs": []
    }
  ]
}