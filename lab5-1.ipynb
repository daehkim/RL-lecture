{
  "nbformat": 4,
  "nbformat_minor": 0,
  "metadata": {
    "colab": {
      "name": "Untitled1.ipynb",
      "provenance": [],
      "authorship_tag": "ABX9TyPxuWA8WAiUdZBXgG2FTZf8",
      "include_colab_link": true
    },
    "kernelspec": {
      "name": "python3",
      "display_name": "Python 3"
    }
  },
  "cells": [
    {
      "cell_type": "markdown",
      "metadata": {
        "id": "view-in-github",
        "colab_type": "text"
      },
      "source": [
        "<a href=\"https://colab.research.google.com/github/daehkim/RL-lecture/blob/master/lab5-1.ipynb\" target=\"_parent\"><img src=\"https://colab.research.google.com/assets/colab-badge.svg\" alt=\"Open In Colab\"/></a>"
      ]
    },
    {
      "cell_type": "code",
      "metadata": {
        "id": "q9zCrmUDJsvm",
        "colab_type": "code",
        "colab": {}
      },
      "source": [
        "import gym\n",
        "import numpy as np\n",
        "import matplotlib.pyplot as plt"
      ],
      "execution_count": 0,
      "outputs": []
    },
    {
      "cell_type": "code",
      "metadata": {
        "id": "yHwdQ9J6Jzbx",
        "colab_type": "code",
        "colab": {}
      },
      "source": [
        "env = gym.make('FrozenLake-v0')"
      ],
      "execution_count": 0,
      "outputs": []
    },
    {
      "cell_type": "code",
      "metadata": {
        "id": "skBvjXe9J1S_",
        "colab_type": "code",
        "colab": {}
      },
      "source": [
        "# Initialize table with all zeros\n",
        "Q = np.zeros([env.observation_space.n, env.action_space.n])\n",
        "\n",
        "# Set learning parameters\n",
        "learning_rate = .85\n",
        "dis = .99\n",
        "num_episodes = 2000"
      ],
      "execution_count": 0,
      "outputs": []
    },
    {
      "cell_type": "code",
      "metadata": {
        "id": "US3JGsNZKHmx",
        "colab_type": "code",
        "colab": {}
      },
      "source": [
        "# create lists to contain total rewards and steps per episode\n",
        "rList = []\n",
        "\n",
        "for i in range(num_episodes):\n",
        "  # Reset environment and get first new observation\n",
        "  state = env.reset()\n",
        "  rAll = 0\n",
        "  done = False\n",
        "  \n",
        "  # The Q-Table learning algorithm\n",
        "  while not done:\n",
        "    # Choose an action by greedily (with noise) picking from Q table\n",
        "    action = np.argmax(Q[state, :] + np.random.randn(1, env.action_space.n) /\\\n",
        "                       (i+1))\n",
        "\n",
        "    # Get new state and reward from environment\n",
        "    new_state, reward, done, _ = env.step(action)\n",
        "\n",
        "    # Update Q-Table with new knowledge using learning rate\n",
        "    Q[state, action] = (1-learning_rate) * Q[state, action] + learning_rate *\\\n",
        "      (reward + dis * np.max(Q[new_state, :]))\n",
        "\n",
        "    rAll += reward\n",
        "    state = new_state\n",
        "\n",
        "  rList.append(rAll)"
      ],
      "execution_count": 0,
      "outputs": []
    },
    {
      "cell_type": "code",
      "metadata": {
        "id": "FBhADLQoLYXI",
        "colab_type": "code",
        "colab": {
          "base_uri": "https://localhost:8080/",
          "height": 571
        },
        "outputId": "a3ce3429-1628-45e2-ccb4-e089e936433f"
      },
      "source": [
        "print(\"Score over time: \" + str(sum(rList)/num_episodes))\n",
        "print(\"Final Q-Table Values\")\n",
        "print(Q)\n",
        "plt.bar(range(len(rList)), rList, color=\"blue\")\n",
        "plt.show()"
      ],
      "execution_count": 11,
      "outputs": [
        {
          "output_type": "stream",
          "text": [
            "Score over time: 0.576\n",
            "Final Q-Table Values\n",
            "[[3.33043753e-02 5.56508235e-02 4.77353753e-01 5.14963388e-02]\n",
            " [7.99495172e-03 2.55992892e-03 2.19002205e-02 2.48577388e-01]\n",
            " [1.82755753e-02 1.27000895e-02 1.97980366e-02 1.69141619e-01]\n",
            " [2.19970125e-03 5.98809797e-05 3.83682495e-04 1.20997407e-01]\n",
            " [4.99796277e-01 6.51055484e-03 1.66173883e-02 2.28777004e-02]\n",
            " [0.00000000e+00 0.00000000e+00 0.00000000e+00 0.00000000e+00]\n",
            " [2.69603724e-02 6.71801574e-05 1.68620037e-04 1.51034014e-04]\n",
            " [0.00000000e+00 0.00000000e+00 0.00000000e+00 0.00000000e+00]\n",
            " [4.22127778e-85 4.09529401e-04 4.01881222e-03 7.01253734e-01]\n",
            " [8.15923023e-03 5.97059573e-01 4.74406837e-03 0.00000000e+00]\n",
            " [2.41395684e-01 1.07634393e-04 5.39698549e-04 1.12467247e-03]\n",
            " [0.00000000e+00 0.00000000e+00 0.00000000e+00 0.00000000e+00]\n",
            " [0.00000000e+00 0.00000000e+00 0.00000000e+00 0.00000000e+00]\n",
            " [0.00000000e+00 8.54513787e-02 9.00607360e-01 1.88100515e-02]\n",
            " [1.83548606e-01 9.90377161e-01 0.00000000e+00 0.00000000e+00]\n",
            " [0.00000000e+00 0.00000000e+00 0.00000000e+00 0.00000000e+00]]\n"
          ],
          "name": "stdout"
        },
        {
          "output_type": "display_data",
          "data": {
            "image/png": "[encoded data removed]",
            "text/plain": [
              "<Figure size 432x288 with 1 Axes>"
            ]
          },
          "metadata": {
            "tags": []
          }
        }
      ]
    },
    {
      "cell_type": "code",
      "metadata": {
        "id": "uzJPIiJYLlIU",
        "colab_type": "code",
        "colab": {}
      },
      "source": [
        ""
      ],
      "execution_count": 0,
      "outputs": []
    }
  ]
}