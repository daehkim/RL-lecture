{
  "nbformat": 4,
  "nbformat_minor": 0,
  "metadata": {
    "colab": {
      "name": "Untitled0.ipynb",
      "provenance": [],
      "collapsed_sections": [],
      "authorship_tag": "ABX9TyMiTkOtODKUlT0y/CRi/3cP",
      "include_colab_link": true
    },
    "kernelspec": {
      "name": "python3",
      "display_name": "Python 3"
    }
  },
  "cells": [
    {
      "cell_type": "markdown",
      "metadata": {
        "id": "view-in-github",
        "colab_type": "text"
      },
      "source": [
        "<a href=\"https://colab.research.google.com/github/daehkim/RL-lecture/blob/master/lab3.ipynb\" target=\"_parent\"><img src=\"https://colab.research.google.com/assets/colab-badge.svg\" alt=\"Open In Colab\"/></a>"
      ]
    },
    {
      "cell_type": "code",
      "metadata": {
        "id": "qIvQU9usFUxO",
        "colab_type": "code",
        "colab": {}
      },
      "source": [
        "import gym\n",
        "import numpy as np\n",
        "import matplotlib.pyplot as plt\n",
        "from gym.envs.registration import register\n",
        "import random as pr"
      ],
      "execution_count": 0,
      "outputs": []
    },
    {
      "cell_type": "code",
      "metadata": {
        "id": "CeBvPBSzJsOb",
        "colab_type": "code",
        "colab": {}
      },
      "source": [
        "def rargmax(vector):\n",
        "  \"\"\" Argmax that chooses randomly among eligible maximum indices.\"\"\"\n",
        "  m = np.amax(vector)\n",
        "  indices = np.nonzero(vector == m)[0]\n",
        "  return pr.choice(indices)"
      ],
      "execution_count": 0,
      "outputs": []
    },
    {
      "cell_type": "code",
      "metadata": {
        "id": "iq3VVoU6J4EU",
        "colab_type": "code",
        "colab": {}
      },
      "source": [
        "register(\n",
        "    id='FrozenLake-v3',\n",
        "    entry_point='gym.envs.toy_text:FrozenLakeEnv',\n",
        "    kwargs={'map_name': '4x4', \n",
        "            'is_slippery': False}\n",
        ")\n"
      ],
      "execution_count": 0,
      "outputs": []
    },
    {
      "cell_type": "code",
      "metadata": {
        "id": "rrHO2dvlKCfD",
        "colab_type": "code",
        "colab": {}
      },
      "source": [
        "env = gym.make('FrozenLake-v3')"
      ],
      "execution_count": 0,
      "outputs": []
    },
    {
      "cell_type": "code",
      "metadata": {
        "id": "7X8JyVA3TGM5",
        "colab_type": "code",
        "colab": {}
      },
      "source": [
        "# Initialize table with all zeros\n",
        "Q = np.zeros([env.observation_space.n, env.action_space.n]) # status x num of actions\n",
        "# Set learning parameters\n",
        "num_episodes = 2000\n",
        "\n",
        "# create lists to contain total rewards and steps per episode\n",
        "rList = []\n",
        "for i in range(num_episodes):\n",
        "  # Reset environment and get first new observation\n",
        "  state = env.reset()\n",
        "  rAll = 0\n",
        "  done = False\n",
        "\n",
        "  # The Q-Table learning algorithm\n",
        "  while not done:\n",
        "    action = rargmax(Q[state, :]) # find the action which will give maximum reward. If the rewards are same, choose randomly\n",
        "\n",
        "    # Get new state and reward from environment\n",
        "    new_state, reward, done, _ = env.step(action) # Do the action and get the information\n",
        "\n",
        "    # Update Q-Table with new knowledge using learning rate\n",
        "    Q[state, action] = reward + np.max(Q[new_state, :])\n",
        "\n",
        "    rAll += reward\n",
        "    state = new_state\n",
        "\n",
        "  rList.append(rAll) # 각각 2000번의 시도동안 몇번 성공했는지 리스트에 나온다.\n"
      ],
      "execution_count": 0,
      "outputs": []
    },
    {
      "cell_type": "code",
      "metadata": {
        "id": "Kqwzeil1d9iT",
        "colab_type": "code",
        "outputId": "92e8475e-93bb-4bd2-8652-54efa07a78f3",
        "colab": {
          "base_uri": "https://localhost:8080/",
          "height": 588
        }
      },
      "source": [
        "print(\"Success rate: \" + str(sum(rList)/num_episodes))\n",
        "print(\"Final Q-table Values\")\n",
        "print(\"LEFT DOWN RIGHT UP\")\n",
        "print(Q)\n",
        "plt.bar(range(len(rList)), rList, color=\"blue\")\n",
        "plt.show()"
      ],
      "execution_count": 6,
      "outputs": [
        {
          "output_type": "stream",
          "text": [
            "Success rate: 0.97\n",
            "Final Q-table Values\n",
            "LEFT DOWN RIGHT UP\n",
            "[[0. 1. 0. 0.]\n",
            " [0. 0. 0. 0.]\n",
            " [0. 0. 0. 0.]\n",
            " [0. 0. 0. 0.]\n",
            " [0. 1. 0. 0.]\n",
            " [0. 0. 0. 0.]\n",
            " [0. 0. 0. 0.]\n",
            " [0. 0. 0. 0.]\n",
            " [0. 0. 1. 0.]\n",
            " [0. 1. 0. 0.]\n",
            " [0. 0. 0. 0.]\n",
            " [0. 0. 0. 0.]\n",
            " [0. 0. 0. 0.]\n",
            " [0. 0. 1. 0.]\n",
            " [0. 0. 1. 0.]\n",
            " [0. 0. 0. 0.]]\n"
          ],
          "name": "stdout"
        },
        {
          "output_type": "display_data",
          "data": {
            "image/png": "[encoded data removed]",
            "text/plain": [
              "<Figure size 432x288 with 1 Axes>"
            ]
          },
          "metadata": {
            "tags": []
          }
        }
      ]
    },
    {
      "cell_type": "code",
      "metadata": {
        "id": "w1lgG5KteMV2",
        "colab_type": "code",
        "colab": {}
      },
      "source": [
        ""
      ],
      "execution_count": 0,
      "outputs": []
    }
  ]
}